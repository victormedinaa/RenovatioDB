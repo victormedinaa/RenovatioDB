{
    "metadata": {
        "kernelspec": {
            "name": "SQL",
            "display_name": "SQL",
            "language": "sql"
        },
        "language_info": {
            "name": "sql",
            "version": ""
        }
    },
    "nbformat_minor": 2,
    "nbformat": 4,
    "cells": [
        {
            "cell_type": "code",
            "source": [
                " "
            ],
            "metadata": {
                "azdata_cell_guid": "b6dde78d-ca6d-422c-ac24-e5860145847e",
                "language": "sql"
            },
            "outputs": [],
            "execution_count": null
        }
    ]
}